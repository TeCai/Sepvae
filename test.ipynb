{
 "cells": [
  {
   "cell_type": "code",
   "execution_count": 1,
   "metadata": {
    "collapsed": true
   },
   "outputs": [],
   "source": [
    "import torch\n",
    "from Models import Params,SepVAE,CrossAttention, SepVAEEncoder\n",
    "import torch.nn as nn\n",
    "import torchinfo\n",
    "import numpy as np\n",
    "import matplotlib.pyplot as plt\n",
    "from torch.utils.data import Dataset, DataLoader\n",
    "from transformers import get_linear_schedule_with_warmup\n",
    "from pathlib import Path"
   ]
  },
  {
   "cell_type": "code",
   "execution_count": 2,
   "outputs": [],
   "source": [
    "# test cross attention\n",
    "\n",
    "crs = CrossAttention(17,35)\n",
    "input1 = torch.randn(size = (3,17,16,16))\n",
    "input2 = torch.randn(size = (3,35,17,17))\n",
    "\n",
    "with torch.no_grad():\n",
    "    a = crs(input1,input2)"
   ],
   "metadata": {
    "collapsed": false
   }
  },
  {
   "cell_type": "code",
   "execution_count": 2,
   "outputs": [],
   "source": [
    "dummy = torch.randn(size= (3,3,128,128))\n",
    "\n",
    "params = Params(discrete=True, use_conv=False)\n",
    "\n",
    "model = SepVAE(params)"
   ],
   "metadata": {
    "collapsed": false
   }
  },
  {
   "cell_type": "code",
   "execution_count": 4,
   "outputs": [
    {
     "name": "stdout",
     "output_type": "stream",
     "text": [
      "=====================================================================================\n",
      "Layer (type:depth-idx)                                       Param #\n",
      "=====================================================================================\n",
      "SepVAE                                                       --\n",
      "├─SepVAEEncoder: 1-1                                         --\n",
      "│    └─Conv2d: 2-1                                           448\n",
      "│    └─ModuleList: 2-2                                       --\n",
      "│    │    └─ModuleList: 3-1                                  13,984\n",
      "│    │    └─ModuleList: 3-2                                  15,024\n",
      "│    │    └─ModuleList: 3-3                                  43,360\n",
      "│    │    └─ModuleList: 3-4                                  139,968\n",
      "│    └─ModuleList: 2-3                                       --\n",
      "│    │    └─ModuleList: 3-5                                  50,848\n",
      "│    │    └─ModuleList: 3-6                                  35,504\n",
      "│    │    └─ModuleList: 3-7                                  76,128\n",
      "│    │    └─ModuleList: 3-8                                  139,968\n",
      "│    └─CrossAttention: 2-4                                   --\n",
      "│    │    └─Conv2d: 3-9                                      16,384\n",
      "│    │    └─Conv2d: 3-10                                     16,384\n",
      "│    │    └─Conv2d: 3-11                                     16,384\n",
      "│    │    └─Conv2d: 3-12                                     16,512\n",
      "│    │    └─Conv2d: 3-13                                     16,384\n",
      "│    │    └─Conv2d: 3-14                                     16,384\n",
      "│    │    └─Conv2d: 3-15                                     16,384\n",
      "│    │    └─Conv2d: 3-16                                     16,512\n",
      "│    └─Sequential: 2-5                                       --\n",
      "│    │    └─Conv2d: 3-17                                     4,128\n",
      "│    │    └─LeakyReLU: 3-18                                  --\n",
      "│    └─Sequential: 2-6                                       --\n",
      "│    │    └─Conv2d: 3-19                                     4,128\n",
      "│    │    └─LeakyReLU: 3-20                                  --\n",
      "│    └─Sequential: 2-7                                       --\n",
      "│    │    └─BatchNorm1d: 3-21                                2,048\n",
      "│    │    └─Linear: 3-22                                     262,400\n",
      "│    │    └─LeakyReLU: 3-23                                  --\n",
      "│    └─Sequential: 2-8                                       --\n",
      "│    │    └─BatchNorm1d: 3-24                                2,048\n",
      "│    │    └─Linear: 3-25                                     262,400\n",
      "│    │    └─LeakyReLU: 3-26                                  --\n",
      "├─SepVAEDecoder: 1-2                                         --\n",
      "│    └─Sequential: 2-9                                       --\n",
      "│    │    └─Linear: 3-27                                     526,336\n",
      "│    │    └─GELU: 3-28                                       --\n",
      "│    └─Sequential: 2-10                                      --\n",
      "│    │    └─Linear: 3-29                                     526,336\n",
      "│    │    └─GELU: 3-30                                       --\n",
      "│    └─Sequential: 2-11                                      --\n",
      "│    │    └─Conv2d: 3-31                                     4,224\n",
      "│    │    └─LeakyReLU: 3-32                                  --\n",
      "│    └─Sequential: 2-12                                      --\n",
      "│    │    └─Conv2d: 3-33                                     4,224\n",
      "│    │    └─LeakyReLU: 3-34                                  --\n",
      "│    └─ModuleList: 2-13                                      --\n",
      "│    │    └─ModuleList: 3-35                                 435,392\n",
      "│    │    └─ModuleList: 3-36                                 125,536\n",
      "│    │    └─ModuleList: 3-37                                 39,728\n",
      "│    │    └─ModuleList: 3-38                                 15,264\n",
      "│    └─ModuleList: 2-14                                      --\n",
      "│    │    └─ModuleList: 3-39                                 615,744\n",
      "│    │    └─ModuleList: 3-40                                 170,656\n",
      "│    │    └─ModuleList: 3-41                                 51,024\n",
      "│    │    └─ModuleList: 3-42                                 18,096\n",
      "│    └─Conv2d: 2-15                                          51\n",
      "=====================================================================================\n",
      "Total params: 3,716,323\n",
      "Trainable params: 3,716,323\n",
      "Non-trainable params: 0\n",
      "=====================================================================================\n"
     ]
    }
   ],
   "source": [
    "print(torchinfo.summary(model))"
   ],
   "metadata": {
    "collapsed": false
   }
  },
  {
   "cell_type": "code",
   "execution_count": 3,
   "outputs": [],
   "source": [
    "with torch.no_grad():\n",
    "    a = model(dummy)"
   ],
   "metadata": {
    "collapsed": false
   }
  },
  {
   "cell_type": "code",
   "execution_count": 3,
   "outputs": [],
   "source": [
    "class Dummyset(Dataset):\n",
    "    def __init__(self, input_size, length):\n",
    "        self.length = length\n",
    "        self.data = torch.randn(size = (length,3,input_size,input_size))\n",
    "\n",
    "    def __len__(self):\n",
    "        return self.length\n",
    "\n",
    "    def __getitem__(self, idx):\n",
    "        return self.data[idx]"
   ],
   "metadata": {
    "collapsed": false
   }
  },
  {
   "cell_type": "code",
   "execution_count": 5,
   "outputs": [],
   "source": [
    "with torch.no_grad():\n",
    "    b = model.elbo(a[0],a[1],a[2],a[3],a[-1],dummy)"
   ],
   "metadata": {
    "collapsed": false
   }
  },
  {
   "cell_type": "code",
   "execution_count": 4,
   "outputs": [
    {
     "name": "stdout",
     "output_type": "stream",
     "text": [
      "================================================================================\n",
      "Layer (type:depth-idx)                                  Param #\n",
      "================================================================================\n",
      "SepVAE                                                  --\n",
      "├─Conv2d: 1-1                                           448\n",
      "├─ModuleList: 1-2                                       --\n",
      "│    └─ModuleList: 2-1                                  --\n",
      "│    │    └─ResnetBlock: 3-1                            4,704\n",
      "│    │    └─Residual: 3-2                               8,240\n",
      "│    │    └─Conv2d: 3-3                                 1,040\n",
      "│    └─ModuleList: 2-2                                  --\n",
      "│    │    └─ResnetBlock: 3-4                            4,704\n",
      "│    │    └─Residual: 3-5                               8,240\n",
      "│    │    └─Conv2d: 3-6                                 2,080\n",
      "│    └─ModuleList: 2-3                                  --\n",
      "│    │    └─ResnetBlock: 3-7                            18,624\n",
      "│    │    └─Residual: 3-8                               16,480\n",
      "│    │    └─Conv2d: 3-9                                 18,496\n",
      "├─ModuleList: 1-3                                       --\n",
      "│    └─ModuleList: 2-4                                  --\n",
      "│    │    └─ResnetBlock: 3-10                           41,568\n",
      "│    │    └─Residual: 3-11                              8,240\n",
      "│    │    └─Conv2d: 3-12                                1,040\n",
      "│    └─ModuleList: 2-5                                  --\n",
      "│    │    └─ResnetBlock: 3-13                           25,184\n",
      "│    │    └─Residual: 3-14                              8,240\n",
      "│    │    └─Conv2d: 3-15                                2,080\n",
      "│    └─ModuleList: 2-6                                  --\n",
      "│    │    └─ResnetBlock: 3-16                           51,392\n",
      "│    │    └─Residual: 3-17                              16,480\n",
      "│    │    └─Conv2d: 3-18                                18,496\n",
      "================================================================================\n",
      "Total params: 255,776\n",
      "Trainable params: 255,776\n",
      "Non-trainable params: 0\n",
      "================================================================================\n"
     ]
    }
   ],
   "source": [
    "print(torchinfo.summary(model))"
   ],
   "metadata": {
    "collapsed": false
   }
  },
  {
   "cell_type": "code",
   "execution_count": 4,
   "outputs": [],
   "source": [
    "from Models.utils import Trainer"
   ],
   "metadata": {
    "collapsed": false
   }
  },
  {
   "cell_type": "code",
   "execution_count": 5,
   "outputs": [],
   "source": [
    "trainset = Dummyset(128,200)\n",
    "testset = Dummyset(128,50)\n",
    "train_loader = DataLoader(trainset,batch_size = 16,shuffle=True)\n",
    "test_loader = DataLoader(testset, batch_size=  16, shuffle = False)\n",
    "optimizer = torch.optim.Adam(model.parameters(),lr = 1e-5)\n",
    "scheduler = get_linear_schedule_with_warmup(optimizer,num_warmup_steps=30,num_training_steps=1000)"
   ],
   "metadata": {
    "collapsed": false
   }
  },
  {
   "cell_type": "code",
   "execution_count": 6,
   "outputs": [],
   "source": [
    "tr = Trainer(model,optimizer=optimizer,scheduler=scheduler,train_loader=train_loader,test_loader=test_loader,training_step=100,report_step=10,save_path=Path(\"./\"),device = torch.device('cuda:0'),num_sample=2)"
   ],
   "metadata": {
    "collapsed": false
   }
  },
  {
   "cell_type": "code",
   "execution_count": 7,
   "outputs": [
    {
     "name": "stdout",
     "output_type": "stream",
     "text": [
      "step:0, loss:258347.828125, finekl:1.057014,coarsekl:0.934301,L:258345.843750\n"
     ]
    },
    {
     "ename": "KeyboardInterrupt",
     "evalue": "",
     "output_type": "error",
     "traceback": [
      "\u001B[1;31m---------------------------------------------------------------------------\u001B[0m",
      "\u001B[1;31mKeyboardInterrupt\u001B[0m                         Traceback (most recent call last)",
      "Cell \u001B[1;32mIn[7], line 1\u001B[0m\n\u001B[1;32m----> 1\u001B[0m \u001B[43mtr\u001B[49m\u001B[38;5;241;43m.\u001B[39;49m\u001B[43mtrain\u001B[49m\u001B[43m(\u001B[49m\u001B[43m)\u001B[49m\n",
      "File \u001B[1;32mE:\\Files\\OneDrive - University College London\\Sepvae\\Models\\utils.py:87\u001B[0m, in \u001B[0;36mTrainer.train\u001B[1;34m(self)\u001B[0m\n\u001B[0;32m     85\u001B[0m \u001B[38;5;28mself\u001B[39m\u001B[38;5;241m.\u001B[39mmodel\u001B[38;5;241m.\u001B[39mtrain()\n\u001B[0;32m     86\u001B[0m \u001B[38;5;28mself\u001B[39m\u001B[38;5;241m.\u001B[39moptimizer\u001B[38;5;241m.\u001B[39mzero_grad()\n\u001B[1;32m---> 87\u001B[0m fine_pos_mean, fine_pos_var, coarse_pos_mean, coarse_pos_var, fine_sample, coarse_sample, output \u001B[38;5;241m=\u001B[39m \u001B[38;5;28;43mself\u001B[39;49m\u001B[38;5;241;43m.\u001B[39;49m\u001B[43mmodel\u001B[49m\u001B[43m(\u001B[49m\u001B[43mX\u001B[49m\u001B[43m,\u001B[49m\u001B[38;5;28;43mself\u001B[39;49m\u001B[38;5;241;43m.\u001B[39;49m\u001B[43mnum_sample\u001B[49m\u001B[43m)\u001B[49m\n\u001B[0;32m     88\u001B[0m klfine,klcoarse,negalikeli \u001B[38;5;241m=\u001B[39m \u001B[38;5;28mself\u001B[39m\u001B[38;5;241m.\u001B[39mmodel\u001B[38;5;241m.\u001B[39melbo(fine_pos_mean, fine_pos_var, coarse_pos_mean, coarse_pos_var, output, X)\n\u001B[0;32m     89\u001B[0m loss \u001B[38;5;241m=\u001B[39m klfine \u001B[38;5;241m+\u001B[39m klcoarse \u001B[38;5;241m+\u001B[39m negalikeli\n",
      "File \u001B[1;32mD:\\APPS\\Anaconda3\\envs\\torchtwo\\lib\\site-packages\\torch\\nn\\modules\\module.py:1501\u001B[0m, in \u001B[0;36mModule._call_impl\u001B[1;34m(self, *args, **kwargs)\u001B[0m\n\u001B[0;32m   1496\u001B[0m \u001B[38;5;66;03m# If we don't have any hooks, we want to skip the rest of the logic in\u001B[39;00m\n\u001B[0;32m   1497\u001B[0m \u001B[38;5;66;03m# this function, and just call forward.\u001B[39;00m\n\u001B[0;32m   1498\u001B[0m \u001B[38;5;28;01mif\u001B[39;00m \u001B[38;5;129;01mnot\u001B[39;00m (\u001B[38;5;28mself\u001B[39m\u001B[38;5;241m.\u001B[39m_backward_hooks \u001B[38;5;129;01mor\u001B[39;00m \u001B[38;5;28mself\u001B[39m\u001B[38;5;241m.\u001B[39m_backward_pre_hooks \u001B[38;5;129;01mor\u001B[39;00m \u001B[38;5;28mself\u001B[39m\u001B[38;5;241m.\u001B[39m_forward_hooks \u001B[38;5;129;01mor\u001B[39;00m \u001B[38;5;28mself\u001B[39m\u001B[38;5;241m.\u001B[39m_forward_pre_hooks\n\u001B[0;32m   1499\u001B[0m         \u001B[38;5;129;01mor\u001B[39;00m _global_backward_pre_hooks \u001B[38;5;129;01mor\u001B[39;00m _global_backward_hooks\n\u001B[0;32m   1500\u001B[0m         \u001B[38;5;129;01mor\u001B[39;00m _global_forward_hooks \u001B[38;5;129;01mor\u001B[39;00m _global_forward_pre_hooks):\n\u001B[1;32m-> 1501\u001B[0m     \u001B[38;5;28;01mreturn\u001B[39;00m \u001B[43mforward_call\u001B[49m\u001B[43m(\u001B[49m\u001B[38;5;241;43m*\u001B[39;49m\u001B[43margs\u001B[49m\u001B[43m,\u001B[49m\u001B[43m \u001B[49m\u001B[38;5;241;43m*\u001B[39;49m\u001B[38;5;241;43m*\u001B[39;49m\u001B[43mkwargs\u001B[49m\u001B[43m)\u001B[49m\n\u001B[0;32m   1502\u001B[0m \u001B[38;5;66;03m# Do not call functions when jit is used\u001B[39;00m\n\u001B[0;32m   1503\u001B[0m full_backward_hooks, non_full_backward_hooks \u001B[38;5;241m=\u001B[39m [], []\n",
      "File \u001B[1;32mE:\\Files\\OneDrive - University College London\\Sepvae\\Models\\Sepvae.py:592\u001B[0m, in \u001B[0;36mSepVAE.forward\u001B[1;34m(self, x, num_sample)\u001B[0m\n\u001B[0;32m    589\u001B[0m     coarse_sample \u001B[38;5;241m=\u001B[39m torch\u001B[38;5;241m.\u001B[39mrandn_like(coarse_pos_mean)\u001B[38;5;241m.\u001B[39mto(\u001B[38;5;28mself\u001B[39m\u001B[38;5;241m.\u001B[39mdevice) \u001B[38;5;241m*\u001B[39m coarse_pos_var\u001B[38;5;241m.\u001B[39msqrt() \u001B[38;5;241m+\u001B[39m coarse_pos_mean\n\u001B[0;32m    591\u001B[0m \u001B[38;5;28;01melse\u001B[39;00m:\n\u001B[1;32m--> 592\u001B[0m     fine_dis \u001B[38;5;241m=\u001B[39m \u001B[43mOneHotDist\u001B[49m\u001B[43m(\u001B[49m\u001B[43mlogits\u001B[49m\u001B[43m \u001B[49m\u001B[38;5;241;43m=\u001B[39;49m\u001B[43m \u001B[49m\u001B[43mfine_pos_mean\u001B[49m\u001B[43m)\u001B[49m\n\u001B[0;32m    593\u001B[0m     coarse_dis \u001B[38;5;241m=\u001B[39m OneHotDist(logits \u001B[38;5;241m=\u001B[39m coarse_pos_mean)\n\u001B[0;32m    595\u001B[0m     fine_sample \u001B[38;5;241m=\u001B[39m fine_dis\u001B[38;5;241m.\u001B[39msample(sample_shape\u001B[38;5;241m=\u001B[39m(num_sample,))\n",
      "File \u001B[1;32mE:\\Files\\OneDrive - University College London\\Sepvae\\Models\\utils.py:138\u001B[0m, in \u001B[0;36mOneHotDist.__init__\u001B[1;34m(self, logits, probs)\u001B[0m\n\u001B[0;32m    137\u001B[0m \u001B[38;5;28;01mdef\u001B[39;00m \u001B[38;5;21m__init__\u001B[39m(\u001B[38;5;28mself\u001B[39m, logits\u001B[38;5;241m=\u001B[39m\u001B[38;5;28;01mNone\u001B[39;00m, probs\u001B[38;5;241m=\u001B[39m\u001B[38;5;28;01mNone\u001B[39;00m):\n\u001B[1;32m--> 138\u001B[0m     \u001B[38;5;28;43msuper\u001B[39;49m\u001B[43m(\u001B[49m\u001B[43m)\u001B[49m\u001B[38;5;241;43m.\u001B[39;49m\u001B[38;5;21;43m__init__\u001B[39;49m\u001B[43m(\u001B[49m\u001B[43mlogits\u001B[49m\u001B[38;5;241;43m=\u001B[39;49m\u001B[43mlogits\u001B[49m\u001B[43m,\u001B[49m\u001B[43m \u001B[49m\u001B[43mprobs\u001B[49m\u001B[38;5;241;43m=\u001B[39;49m\u001B[43mprobs\u001B[49m\u001B[43m)\u001B[49m\n",
      "File \u001B[1;32mD:\\APPS\\Anaconda3\\envs\\torchtwo\\lib\\site-packages\\torch\\distributions\\one_hot_categorical.py:43\u001B[0m, in \u001B[0;36mOneHotCategorical.__init__\u001B[1;34m(self, probs, logits, validate_args)\u001B[0m\n\u001B[0;32m     42\u001B[0m \u001B[38;5;28;01mdef\u001B[39;00m \u001B[38;5;21m__init__\u001B[39m(\u001B[38;5;28mself\u001B[39m, probs\u001B[38;5;241m=\u001B[39m\u001B[38;5;28;01mNone\u001B[39;00m, logits\u001B[38;5;241m=\u001B[39m\u001B[38;5;28;01mNone\u001B[39;00m, validate_args\u001B[38;5;241m=\u001B[39m\u001B[38;5;28;01mNone\u001B[39;00m):\n\u001B[1;32m---> 43\u001B[0m     \u001B[38;5;28mself\u001B[39m\u001B[38;5;241m.\u001B[39m_categorical \u001B[38;5;241m=\u001B[39m \u001B[43mCategorical\u001B[49m\u001B[43m(\u001B[49m\u001B[43mprobs\u001B[49m\u001B[43m,\u001B[49m\u001B[43m \u001B[49m\u001B[43mlogits\u001B[49m\u001B[43m)\u001B[49m\n\u001B[0;32m     44\u001B[0m     batch_shape \u001B[38;5;241m=\u001B[39m \u001B[38;5;28mself\u001B[39m\u001B[38;5;241m.\u001B[39m_categorical\u001B[38;5;241m.\u001B[39mbatch_shape\n\u001B[0;32m     45\u001B[0m     event_shape \u001B[38;5;241m=\u001B[39m \u001B[38;5;28mself\u001B[39m\u001B[38;5;241m.\u001B[39m_categorical\u001B[38;5;241m.\u001B[39mparam_shape[\u001B[38;5;241m-\u001B[39m\u001B[38;5;241m1\u001B[39m:]\n",
      "File \u001B[1;32mD:\\APPS\\Anaconda3\\envs\\torchtwo\\lib\\site-packages\\torch\\distributions\\categorical.py:66\u001B[0m, in \u001B[0;36mCategorical.__init__\u001B[1;34m(self, probs, logits, validate_args)\u001B[0m\n\u001B[0;32m     64\u001B[0m \u001B[38;5;28mself\u001B[39m\u001B[38;5;241m.\u001B[39m_num_events \u001B[38;5;241m=\u001B[39m \u001B[38;5;28mself\u001B[39m\u001B[38;5;241m.\u001B[39m_param\u001B[38;5;241m.\u001B[39msize()[\u001B[38;5;241m-\u001B[39m\u001B[38;5;241m1\u001B[39m]\n\u001B[0;32m     65\u001B[0m batch_shape \u001B[38;5;241m=\u001B[39m \u001B[38;5;28mself\u001B[39m\u001B[38;5;241m.\u001B[39m_param\u001B[38;5;241m.\u001B[39msize()[:\u001B[38;5;241m-\u001B[39m\u001B[38;5;241m1\u001B[39m] \u001B[38;5;28;01mif\u001B[39;00m \u001B[38;5;28mself\u001B[39m\u001B[38;5;241m.\u001B[39m_param\u001B[38;5;241m.\u001B[39mndimension() \u001B[38;5;241m>\u001B[39m \u001B[38;5;241m1\u001B[39m \u001B[38;5;28;01melse\u001B[39;00m torch\u001B[38;5;241m.\u001B[39mSize()\n\u001B[1;32m---> 66\u001B[0m \u001B[38;5;28;43msuper\u001B[39;49m\u001B[43m(\u001B[49m\u001B[43m)\u001B[49m\u001B[38;5;241;43m.\u001B[39;49m\u001B[38;5;21;43m__init__\u001B[39;49m\u001B[43m(\u001B[49m\u001B[43mbatch_shape\u001B[49m\u001B[43m,\u001B[49m\u001B[43m \u001B[49m\u001B[43mvalidate_args\u001B[49m\u001B[38;5;241;43m=\u001B[39;49m\u001B[43mvalidate_args\u001B[49m\u001B[43m)\u001B[49m\n",
      "File \u001B[1;32mD:\\APPS\\Anaconda3\\envs\\torchtwo\\lib\\site-packages\\torch\\distributions\\distribution.py:61\u001B[0m, in \u001B[0;36mDistribution.__init__\u001B[1;34m(self, batch_shape, event_shape, validate_args)\u001B[0m\n\u001B[0;32m     59\u001B[0m         value \u001B[38;5;241m=\u001B[39m \u001B[38;5;28mgetattr\u001B[39m(\u001B[38;5;28mself\u001B[39m, param)\n\u001B[0;32m     60\u001B[0m         valid \u001B[38;5;241m=\u001B[39m constraint\u001B[38;5;241m.\u001B[39mcheck(value)\n\u001B[1;32m---> 61\u001B[0m         \u001B[38;5;28;01mif\u001B[39;00m \u001B[38;5;129;01mnot\u001B[39;00m valid\u001B[38;5;241m.\u001B[39mall():\n\u001B[0;32m     62\u001B[0m             \u001B[38;5;28;01mraise\u001B[39;00m \u001B[38;5;167;01mValueError\u001B[39;00m(\n\u001B[0;32m     63\u001B[0m                 \u001B[38;5;124mf\u001B[39m\u001B[38;5;124m\"\u001B[39m\u001B[38;5;124mExpected parameter \u001B[39m\u001B[38;5;132;01m{\u001B[39;00mparam\u001B[38;5;132;01m}\u001B[39;00m\u001B[38;5;124m \u001B[39m\u001B[38;5;124m\"\u001B[39m\n\u001B[0;32m     64\u001B[0m                 \u001B[38;5;124mf\u001B[39m\u001B[38;5;124m\"\u001B[39m\u001B[38;5;124m(\u001B[39m\u001B[38;5;132;01m{\u001B[39;00m\u001B[38;5;28mtype\u001B[39m(value)\u001B[38;5;241m.\u001B[39m\u001B[38;5;18m__name__\u001B[39m\u001B[38;5;132;01m}\u001B[39;00m\u001B[38;5;124m of shape \u001B[39m\u001B[38;5;132;01m{\u001B[39;00m\u001B[38;5;28mtuple\u001B[39m(value\u001B[38;5;241m.\u001B[39mshape)\u001B[38;5;132;01m}\u001B[39;00m\u001B[38;5;124m) \u001B[39m\u001B[38;5;124m\"\u001B[39m\n\u001B[1;32m   (...)\u001B[0m\n\u001B[0;32m     67\u001B[0m                 \u001B[38;5;124mf\u001B[39m\u001B[38;5;124m\"\u001B[39m\u001B[38;5;124mbut found invalid values:\u001B[39m\u001B[38;5;130;01m\\n\u001B[39;00m\u001B[38;5;132;01m{\u001B[39;00mvalue\u001B[38;5;132;01m}\u001B[39;00m\u001B[38;5;124m\"\u001B[39m\n\u001B[0;32m     68\u001B[0m             )\n\u001B[0;32m     69\u001B[0m \u001B[38;5;28msuper\u001B[39m()\u001B[38;5;241m.\u001B[39m\u001B[38;5;21m__init__\u001B[39m()\n",
      "\u001B[1;31mKeyboardInterrupt\u001B[0m: "
     ]
    }
   ],
   "source": [
    "tr.train()"
   ],
   "metadata": {
    "collapsed": false
   }
  },
  {
   "cell_type": "code",
   "execution_count": null,
   "outputs": [],
   "source": [],
   "metadata": {
    "collapsed": false
   }
  }
 ],
 "metadata": {
  "kernelspec": {
   "display_name": "Python 3",
   "language": "python",
   "name": "python3"
  },
  "language_info": {
   "codemirror_mode": {
    "name": "ipython",
    "version": 2
   },
   "file_extension": ".py",
   "mimetype": "text/x-python",
   "name": "python",
   "nbconvert_exporter": "python",
   "pygments_lexer": "ipython2",
   "version": "2.7.6"
  }
 },
 "nbformat": 4,
 "nbformat_minor": 0
}
