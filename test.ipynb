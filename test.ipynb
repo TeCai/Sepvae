{
 "cells": [
  {
   "cell_type": "code",
   "execution_count": 1,
   "metadata": {
    "collapsed": true
   },
   "outputs": [],
   "source": [
    "import torch\n",
    "from Models import Params,SepVAE,CrossAttention, SepVAEEncoder\n",
    "import torch.nn as nn\n",
    "import torchinfo\n",
    "import numpy as np\n",
    "import matplotlib.pyplot as plt"
   ]
  },
  {
   "cell_type": "code",
   "execution_count": 2,
   "outputs": [],
   "source": [
    "# test cross attention\n",
    "\n",
    "crs = CrossAttention(17,35)\n",
    "input1 = torch.randn(size = (3,17,16,16))\n",
    "input2 = torch.randn(size = (3,35,17,17))\n",
    "\n",
    "with torch.no_grad():\n",
    "    a = crs(input1,input2)"
   ],
   "metadata": {
    "collapsed": false
   }
  },
  {
   "cell_type": "code",
   "execution_count": 3,
   "outputs": [
    {
     "name": "stdout",
     "output_type": "stream",
     "text": [
      "torch.Size([3, 17, 16, 16]) torch.Size([3, 35, 17, 17])\n"
     ]
    }
   ],
   "source": [
    "print(a[0].shape, a[1].shape)"
   ],
   "metadata": {
    "collapsed": false
   }
  },
  {
   "cell_type": "code",
   "execution_count": 18,
   "outputs": [],
   "source": [
    "a = torch.chunk(a[0],2,2)\n"
   ],
   "metadata": {
    "collapsed": false
   }
  },
  {
   "cell_type": "code",
   "execution_count": 19,
   "outputs": [
    {
     "data": {
      "text/plain": "torch.Size([3, 17, 8, 16])"
     },
     "execution_count": 19,
     "metadata": {},
     "output_type": "execute_result"
    }
   ],
   "source": [
    "a[0].shape"
   ],
   "metadata": {
    "collapsed": false
   }
  },
  {
   "cell_type": "code",
   "execution_count": 3,
   "outputs": [],
   "source": [],
   "metadata": {
    "collapsed": false
   }
  },
  {
   "cell_type": "code",
   "execution_count": null,
   "outputs": [],
   "source": [],
   "metadata": {
    "collapsed": false
   }
  },
  {
   "cell_type": "code",
   "execution_count": 6,
   "outputs": [],
   "source": [
    "dummy = torch.randn(size= (3,3,128,128))\n",
    "\n",
    "params = Params()\n",
    "params.useconv = False\n",
    "model = SepVAE(params)"
   ],
   "metadata": {
    "collapsed": false
   }
  },
  {
   "cell_type": "code",
   "execution_count": 4,
   "outputs": [
    {
     "name": "stdout",
     "output_type": "stream",
     "text": [
      "=====================================================================================\n",
      "Layer (type:depth-idx)                                       Param #\n",
      "=====================================================================================\n",
      "SepVAE                                                       --\n",
      "├─SepVAEEncoder: 1-1                                         --\n",
      "│    └─Conv2d: 2-1                                           448\n",
      "│    └─ModuleList: 2-2                                       --\n",
      "│    │    └─ModuleList: 3-1                                  13,984\n",
      "│    │    └─ModuleList: 3-2                                  15,024\n",
      "│    │    └─ModuleList: 3-3                                  43,360\n",
      "│    │    └─ModuleList: 3-4                                  139,968\n",
      "│    └─ModuleList: 2-3                                       --\n",
      "│    │    └─ModuleList: 3-5                                  50,848\n",
      "│    │    └─ModuleList: 3-6                                  35,504\n",
      "│    │    └─ModuleList: 3-7                                  76,128\n",
      "│    │    └─ModuleList: 3-8                                  139,968\n",
      "│    └─CrossAttention: 2-4                                   --\n",
      "│    │    └─Conv2d: 3-9                                      16,384\n",
      "│    │    └─Conv2d: 3-10                                     16,384\n",
      "│    │    └─Conv2d: 3-11                                     16,384\n",
      "│    │    └─Conv2d: 3-12                                     16,512\n",
      "│    │    └─Conv2d: 3-13                                     16,384\n",
      "│    │    └─Conv2d: 3-14                                     16,384\n",
      "│    │    └─Conv2d: 3-15                                     16,384\n",
      "│    │    └─Conv2d: 3-16                                     16,512\n",
      "│    └─Sequential: 2-5                                       --\n",
      "│    │    └─Conv2d: 3-17                                     4,128\n",
      "│    │    └─LeakyReLU: 3-18                                  --\n",
      "│    └─Sequential: 2-6                                       --\n",
      "│    │    └─Conv2d: 3-19                                     4,128\n",
      "│    │    └─LeakyReLU: 3-20                                  --\n",
      "│    └─Sequential: 2-7                                       --\n",
      "│    │    └─BatchNorm1d: 3-21                                2,048\n",
      "│    │    └─Linear: 3-22                                     262,400\n",
      "│    │    └─LeakyReLU: 3-23                                  --\n",
      "│    └─Sequential: 2-8                                       --\n",
      "│    │    └─BatchNorm1d: 3-24                                2,048\n",
      "│    │    └─Linear: 3-25                                     262,400\n",
      "│    │    └─LeakyReLU: 3-26                                  --\n",
      "│    └─Sequential: 2-9                                       --\n",
      "│    │    └─BatchNorm1d: 3-27                                2,048\n",
      "│    │    └─Linear: 3-28                                     262,400\n",
      "│    │    └─LeakyReLU: 3-29                                  --\n",
      "│    └─Sequential: 2-10                                      --\n",
      "│    │    └─BatchNorm1d: 3-30                                2,048\n",
      "│    │    └─Linear: 3-31                                     262,400\n",
      "│    │    └─LeakyReLU: 3-32                                  --\n",
      "├─SepVAEDecoder: 1-2                                         --\n",
      "│    └─Sequential: 2-11                                      --\n",
      "│    │    └─Linear: 3-33                                     526,336\n",
      "│    │    └─GELU: 3-34                                       --\n",
      "│    └─Sequential: 2-12                                      --\n",
      "│    │    └─Linear: 3-35                                     526,336\n",
      "│    │    └─GELU: 3-36                                       --\n",
      "│    └─Sequential: 2-13                                      --\n",
      "│    │    └─Conv2d: 3-37                                     4,224\n",
      "│    │    └─LeakyReLU: 3-38                                  --\n",
      "│    └─Sequential: 2-14                                      --\n",
      "│    │    └─Conv2d: 3-39                                     4,224\n",
      "│    │    └─LeakyReLU: 3-40                                  --\n",
      "│    └─ModuleList: 2-15                                      --\n",
      "│    │    └─ModuleList: 3-41                                 435,392\n",
      "│    │    └─ModuleList: 3-42                                 125,536\n",
      "│    │    └─ModuleList: 3-43                                 39,728\n",
      "│    │    └─ModuleList: 3-44                                 15,264\n",
      "│    └─ModuleList: 2-16                                      --\n",
      "│    │    └─ModuleList: 3-45                                 615,744\n",
      "│    │    └─ModuleList: 3-46                                 170,656\n",
      "│    │    └─ModuleList: 3-47                                 51,024\n",
      "│    │    └─ModuleList: 3-48                                 18,096\n",
      "│    └─Conv2d: 2-17                                          51\n",
      "=====================================================================================\n",
      "Total params: 4,245,219\n",
      "Trainable params: 4,245,219\n",
      "Non-trainable params: 0\n",
      "=====================================================================================\n"
     ]
    }
   ],
   "source": [
    "print(torchinfo.summary(model))"
   ],
   "metadata": {
    "collapsed": false
   }
  },
  {
   "cell_type": "code",
   "execution_count": 7,
   "outputs": [],
   "source": [
    "with torch.no_grad():\n",
    "    a = model(dummy)"
   ],
   "metadata": {
    "collapsed": false
   }
  },
  {
   "cell_type": "code",
   "execution_count": 8,
   "outputs": [],
   "source": [
    "with torch.no_grad():\n",
    "    b = model.elbo(a[0],a[1],a[2],a[3],a[-1])"
   ],
   "metadata": {
    "collapsed": false
   }
  },
  {
   "cell_type": "code",
   "execution_count": 9,
   "outputs": [
    {
     "data": {
      "text/plain": "tensor(49673.2734)"
     },
     "execution_count": 9,
     "metadata": {},
     "output_type": "execute_result"
    }
   ],
   "source": [
    "b"
   ],
   "metadata": {
    "collapsed": false
   }
  },
  {
   "cell_type": "code",
   "execution_count": null,
   "outputs": [],
   "source": [],
   "metadata": {
    "collapsed": false
   }
  },
  {
   "cell_type": "code",
   "execution_count": 7,
   "outputs": [
    {
     "data": {
      "text/plain": "513.0"
     },
     "execution_count": 7,
     "metadata": {},
     "output_type": "execute_result"
    }
   ],
   "source": [],
   "metadata": {
    "collapsed": false
   }
  },
  {
   "cell_type": "code",
   "execution_count": 4,
   "outputs": [
    {
     "name": "stdout",
     "output_type": "stream",
     "text": [
      "================================================================================\n",
      "Layer (type:depth-idx)                                  Param #\n",
      "================================================================================\n",
      "SepVAE                                                  --\n",
      "├─Conv2d: 1-1                                           448\n",
      "├─ModuleList: 1-2                                       --\n",
      "│    └─ModuleList: 2-1                                  --\n",
      "│    │    └─ResnetBlock: 3-1                            4,704\n",
      "│    │    └─Residual: 3-2                               8,240\n",
      "│    │    └─Conv2d: 3-3                                 1,040\n",
      "│    └─ModuleList: 2-2                                  --\n",
      "│    │    └─ResnetBlock: 3-4                            4,704\n",
      "│    │    └─Residual: 3-5                               8,240\n",
      "│    │    └─Conv2d: 3-6                                 2,080\n",
      "│    └─ModuleList: 2-3                                  --\n",
      "│    │    └─ResnetBlock: 3-7                            18,624\n",
      "│    │    └─Residual: 3-8                               16,480\n",
      "│    │    └─Conv2d: 3-9                                 18,496\n",
      "├─ModuleList: 1-3                                       --\n",
      "│    └─ModuleList: 2-4                                  --\n",
      "│    │    └─ResnetBlock: 3-10                           41,568\n",
      "│    │    └─Residual: 3-11                              8,240\n",
      "│    │    └─Conv2d: 3-12                                1,040\n",
      "│    └─ModuleList: 2-5                                  --\n",
      "│    │    └─ResnetBlock: 3-13                           25,184\n",
      "│    │    └─Residual: 3-14                              8,240\n",
      "│    │    └─Conv2d: 3-15                                2,080\n",
      "│    └─ModuleList: 2-6                                  --\n",
      "│    │    └─ResnetBlock: 3-16                           51,392\n",
      "│    │    └─Residual: 3-17                              16,480\n",
      "│    │    └─Conv2d: 3-18                                18,496\n",
      "================================================================================\n",
      "Total params: 255,776\n",
      "Trainable params: 255,776\n",
      "Non-trainable params: 0\n",
      "================================================================================\n"
     ]
    }
   ],
   "source": [
    "print(torchinfo.summary(model))"
   ],
   "metadata": {
    "collapsed": false
   }
  },
  {
   "cell_type": "code",
   "execution_count": 5,
   "outputs": [],
   "source": [
    "def Downsample(dim, dim_out=None):\n",
    "    return nn.Conv2d(dim, dim_out if dim_out is not None else dim, 2, stride=2)\n",
    "\n"
   ],
   "metadata": {
    "collapsed": false
   }
  },
  {
   "cell_type": "code",
   "execution_count": 9,
   "outputs": [
    {
     "name": "stdout",
     "output_type": "stream",
     "text": [
      "torch.Size([5, 64, 32, 32])\n"
     ]
    }
   ],
   "source": [
    "ts = Downsample(64)\n",
    "with torch.no_grad():\n",
    "    print(ts(torch.randn(size=(5,64,64,64))).shape)"
   ],
   "metadata": {
    "collapsed": false
   }
  },
  {
   "cell_type": "code",
   "execution_count": null,
   "outputs": [],
   "source": [
    "class Trainer:\n",
    "    def __init__(self, model, optimizer, scheduler, train_loader, test_loader, training_step, report_step, logger=None):\n",
    "        self.model = model\n",
    "        self.optimizer = optimizer\n",
    "        self.scheduler = scheduler\n",
    "        self.train_loader = train_loader\n",
    "        self.test_loader = test_loader\n",
    "        self.training_step = training_step\n",
    "        self.report_step = report_step\n",
    "        self.logger = logger\n",
    "        self.step = 0\n",
    "\n",
    "        self.loss_list = []\n",
    "        self.evaloss_list = []\n",
    "\n",
    "    def evaluate(self):\n",
    "        hloss = []\n",
    "        self.model.eval()\n",
    "        with torch.no_grad():\n",
    "            for X in self.test_loader:\n",
    "                fine_pos_mean, fine_pos_var, coarse_pos_mean, coarse_pos_var, fine_sample, coarse_sample, output = self.model(X)\n",
    "                hloss1 = self.model.elbo(fine_pos_mean, fine_pos_var, coarse_pos_mean, coarse_pos_var, output)\n",
    "                hloss.append(hloss1.item())\n",
    "        value = np.mean(np.array(hloss))\n",
    "\n",
    "        fig, ax = plt.subplots(ncols=2)\n",
    "        ax[0].imshow(X[0].cpu().detach().permute(1,2,0).numpy())\n",
    "        ax[1].imshow(output[0].cpu().detach().permute(1,2,0).numpy())\n",
    "\n",
    "        del hloss\n",
    "        return value\n",
    "\n",
    "    def save(self, path = './'):\n",
    "\n",
    "        all_state_dict = {\n",
    "        'model_sd' : self.model.state_dict(),\n",
    "        'optimizer_sd' : self.optimizer.state_dict(),\n",
    "        'sche_sd' : self.scheduler.state_dict(),\n",
    "        'step' : self.step,\n",
    "        'loss_list' : self.loss_list,\n",
    "        'evaloss_list' : self.evaloss_list\n",
    "        }\n",
    "\n",
    "        torch.save(all_state_dict, path/'sepvae.pth')\n",
    "\n",
    "\n",
    "\n",
    "\n",
    "\n",
    "    def train(self):\n",
    "        best_eva_loss = np.inf\n",
    "        while True:\n",
    "            for X in self.train_loader:\n",
    "                self.model.train()\n",
    "                self.optimizer.zero_grad()\n",
    "                fine_pos_mean, fine_pos_var, coarse_pos_mean, coarse_pos_var, fine_sample, coarse_sample, output = self.model(X)\n",
    "                loss = self.model.elbo(fine_pos_mean, fine_pos_var, coarse_pos_mean, coarse_pos_var, output)\n",
    "                self.loss_list.append(loss.item())\n",
    "                if self.logger:\n",
    "                    self.logger.info(f\"step:{self.step}, loss:{loss.item():.6f}\")\n",
    "                else:\n",
    "                    print(f\"step:{self.step}, loss:{loss.item():.6f}\")\n",
    "\n",
    "                loss.backward()\n",
    "\n",
    "                self.optimizer.step()\n",
    "                self.scheduler.step()\n",
    "                self.step += 1\n",
    "\n",
    "        # valid\n",
    "            if self.step % self.report_step == 0:\n",
    "                evaloss = self.evaluate()\n",
    "                self.evaloss_list.appned(evaloss.item())\n",
    "                if self.logger:\n",
    "                    self.logger.info(f\"step:{self.step}, eval_loss:{evaloss.item():.6f}\")\n",
    "                else:\n",
    "                    print(f\"step:{self.step}, eval_loss:{evaloss.item():.6f}\")\n",
    "\n",
    "                # saving the best\n",
    "                if evaloss.item() < best_eva_loss:\n",
    "                    best_eva_loss = evaloss.item()\n",
    "                    self.save()\n"
   ],
   "metadata": {
    "collapsed": false
   }
  }
 ],
 "metadata": {
  "kernelspec": {
   "display_name": "Python 3",
   "language": "python",
   "name": "python3"
  },
  "language_info": {
   "codemirror_mode": {
    "name": "ipython",
    "version": 2
   },
   "file_extension": ".py",
   "mimetype": "text/x-python",
   "name": "python",
   "nbconvert_exporter": "python",
   "pygments_lexer": "ipython2",
   "version": "2.7.6"
  }
 },
 "nbformat": 4,
 "nbformat_minor": 0
}
